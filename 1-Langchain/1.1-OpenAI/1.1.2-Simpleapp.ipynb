{
 "cells": [
  {
   "cell_type": "markdown",
   "id": "d183f27f",
   "metadata": {},
   "source": [
    "Simple Gen AI application using Langchain"
   ]
  },
  {
   "cell_type": "code",
   "execution_count": 7,
   "id": "19c5c5c3",
   "metadata": {},
   "outputs": [],
   "source": [
    "import os\n",
    "from dotenv import load_dotenv\n",
    "load_dotenv()\n",
    "\n",
    "os.environ[\"OPENAI_API_KEY\"] = os.getenv(\"OPENAI_API_KEY\")\n",
    "os.environ[\"LANGCHAIN_TRACING_V2\"] = \"true\"\n",
    "os.environ[\"LANGCHAIN_PROJECT\"] = \"first-gen-ai-app\"\n",
    "\n"
   ]
  },
  {
   "cell_type": "markdown",
   "id": "50660c53",
   "metadata": {},
   "source": [
    "Data Ingestion "
   ]
  },
  {
   "cell_type": "code",
   "execution_count": 8,
   "id": "5936f7b5",
   "metadata": {},
   "outputs": [],
   "source": [
    "## Data Ingestion -- From the website we need to scrape the data\n",
    "from langchain_community.document_loaders import WebBaseLoader\n",
    "\n",
    "loader=WebBaseLoader(\"https://docs.smith.langchain.com/prompt_engineering/concepts\")\n",
    "docs=loader.load()\n"
   ]
  },
  {
   "cell_type": "markdown",
   "id": "c1657fd5",
   "metadata": {},
   "source": [
    "1. Load Data\n",
    "2. Split the data to Chunks\n",
    "3. Convert these chunks to Vectors using Embedding techniques\n",
    "4. Vector storage to vector DBs (like FAISS, Chroma, Astra DB)"
   ]
  },
  {
   "cell_type": "code",
   "execution_count": 9,
   "id": "3246d92f",
   "metadata": {},
   "outputs": [
    {
     "data": {
      "text/plain": [
       "[Document(metadata={'source': 'https://docs.smith.langchain.com/prompt_engineering/concepts', 'title': 'Concepts | ğŸ¦œï¸�ğŸ›\\xa0ï¸� LangSmith', 'description': 'Prompt engineering is one the core pillars of LangSmith.', 'language': 'en'}, page_content='Concepts | ğŸ¦œï¸�ğŸ›\\xa0ï¸� LangSmith'),\n",
       " Document(metadata={'source': 'https://docs.smith.langchain.com/prompt_engineering/concepts', 'title': 'Concepts | ğŸ¦œï¸�ğŸ›\\xa0ï¸� LangSmith', 'description': 'Prompt engineering is one the core pillars of LangSmith.', 'language': 'en'}, page_content='Skip to main contentOur Building Ambient Agents with LangGraph course is now available on LangChain Academy!API ReferenceRESTPythonJS/TSSearchRegionUSEUGo to AppGet StartedObservabilityEvaluationPrompt EngineeringQuickstartsTutorialsOptimize a classifierSync Prompts with GitHubHow-to GuidesCreate a promptRun the playground against a custom LangServe model serverRun the playground against an OpenAI-compliant model provider/proxyUpdate a promptManage prompts programmaticallyManaging Prompt SettingsCommit TagsOpen a prompt from a tracePublic prompt hubPrompt CanvasInclude multimodal content in a promptTrigger a webhook on prompt commitUse tools in a promptHow to use multiple messages in the playgroundConceptual GuideDeployment (LangGraph Platform)AdministrationSelf-hostingPricingReferenceCloud architecture and scalabilityAuthz and AuthnAuthentication methodsdata_formatsEvaluationDataset transformationsRegions FAQsdk_referencePrompt EngineeringConceptual GuideOn this pageConcepts'),\n",
       " Document(metadata={'source': 'https://docs.smith.langchain.com/prompt_engineering/concepts', 'title': 'Concepts | ğŸ¦œï¸�ğŸ›\\xa0ï¸� LangSmith', 'description': 'Prompt engineering is one the core pillars of LangSmith.', 'language': 'en'}, page_content='Prompt engineering is one the core pillars of LangSmith.\\nWhile traditional software application are built by writing code, AI applications often involve a good amount of writing prompts.\\nWe aim to make this as easy possible by providing a set of tools designed to enable and facilitate prompt engineering.\\nWhy prompt engineering?â€‹\\nA prompt sets the stage for the model, like an audience member at an improv show directing the actor\\'s next performance - it guides the model\\'s\\nbehavior without changing its underlying capabilities. Just as telling an actor to \"be a pirate\" determines how they act,\\na prompt provides instructions, examples, and context that shape how the model responds.\\nPrompt engineering is important because it allows you to change the way the model behaves.\\nWhile there are other ways to change the model\\'s behavior (like fine-tuning), prompt engineering is usually the simplest to get started with\\nand often provides the highest ROI.'),\n",
       " Document(metadata={'source': 'https://docs.smith.langchain.com/prompt_engineering/concepts', 'title': 'Concepts | ğŸ¦œï¸�ğŸ›\\xa0ï¸� LangSmith', 'description': 'Prompt engineering is one the core pillars of LangSmith.', 'language': 'en'}, page_content='While there are other ways to change the model\\'s behavior (like fine-tuning), prompt engineering is usually the simplest to get started with\\nand often provides the highest ROI.\\nWe often see that prompt engineering is multi-disciplinary.\\nSometimes the best prompt engineer is not the software engineer who is building the application, but rather the product manager\\nor another domain expert.\\nIt is important to have the proper tooling and infrastructure to support this cross-disciplinary building.\\nPrompts vs Prompt Templatesâ€‹\\nAlthough we often use these terms interchangably, it is important to understand the difference between \"prompts\" and \"prompt templates\".\\nPrompts refer to the messages that are passed into the language model.\\nPrompt Templates refer to a way of formatting information to get that prompt to hold the information that you want. Prompt templates\\ncan include variables for few shot examples, outside context, or any other external data that is needed in your prompt.'),\n",
       " Document(metadata={'source': 'https://docs.smith.langchain.com/prompt_engineering/concepts', 'title': 'Concepts | ğŸ¦œï¸�ğŸ›\\xa0ï¸� LangSmith', 'description': 'Prompt engineering is one the core pillars of LangSmith.', 'language': 'en'}, page_content='Prompts in LangSmithâ€‹\\nYou can store and version prompts templates in LangSmith.\\nThere are few key aspects of a prompt template to understand.\\nChat vs Completionâ€‹\\nThere are two different types of prompts: chat style prompts and completion style prompts.\\nChat style prompts are a list of messages. This is the prompting style supported by most model APIs these days, and so this should generally be preferred.\\nCompletion style prompts are just a string. This is an older style of prompting, and so mostly exists for legacy reasons.\\nF-string vs mustacheâ€‹\\nYou can format your prompt with input variables using either f-string or mustache format. Here is an example prompt\\nwith f-string format:\\nHello, {name}!\\nAnd here is one with mustache:\\nHello, {{name}}!\\nTo add a conditional mustache prompt:\\n{{#is_logged_in}}  Welcome back, {{name}}!{{else}}  Please log in.{{/is_logged_in}}'),\n",
       " Document(metadata={'source': 'https://docs.smith.langchain.com/prompt_engineering/concepts', 'title': 'Concepts | ğŸ¦œï¸�ğŸ›\\xa0ï¸� LangSmith', 'description': 'Prompt engineering is one the core pillars of LangSmith.', 'language': 'en'}, page_content=\"The playground UI will pick up is_logged_in variable, but any nested variables you'll need to specify yourself.\\nPaste the following into inputs to ensure the above conditional prompt works:\"),\n",
       " Document(metadata={'source': 'https://docs.smith.langchain.com/prompt_engineering/concepts', 'title': 'Concepts | ğŸ¦œï¸�ğŸ›\\xa0ï¸� LangSmith', 'description': 'Prompt engineering is one the core pillars of LangSmith.', 'language': 'en'}, page_content='{  \"name\": \"Alice\"}\\nMustache formatThe LangSmith Playground uses f-string as the default template format,\\nbut you can switch to mustache format in the prompt settings/template format section.\\nmustache gives you more flexibility around conditional variables, loops, and nested keys.\\nFor conditional variables, you\\'ll need to manually add json variables in the \\'inputs\\' section.\\nRead the documentation\\nToolsâ€‹\\nTools are interfaces the LLM can use to interact with the outside world. Tools consist of a name, description,\\nand JSON schema of arguments used to call the tool.\\nStructured Outputâ€‹\\nStructured output is a feature of most state of the art LLMs, wherein instead of producing raw text as output they\\nstick to a specified schema. This may or may not use Tools under the hood.'),\n",
       " Document(metadata={'source': 'https://docs.smith.langchain.com/prompt_engineering/concepts', 'title': 'Concepts | ğŸ¦œï¸�ğŸ›\\xa0ï¸� LangSmith', 'description': 'Prompt engineering is one the core pillars of LangSmith.', 'language': 'en'}, page_content='Structured output is a feature of most state of the art LLMs, wherein instead of producing raw text as output they\\nstick to a specified schema. This may or may not use Tools under the hood.\\nStructured Output vs ToolsStructured outputs are similar to tools, but different in a few key ways. With tools, the LLM choose which tool to call (or may choose not to call any); with structured output, the LLM always responds in this format. With tools, the LLM may select multiple tools; with structured output, only one response is generate.\\nModelâ€‹\\nOptionally, you can store a model configuration alongside a prompt template. This includes the name of the model and any other parameters (temperature, etc).\\nPrompt Versioningâ€‹\\nVerisioning is a key part of iterating and collaborating on your different prompts.\\nCommitsâ€‹'),\n",
       " Document(metadata={'source': 'https://docs.smith.langchain.com/prompt_engineering/concepts', 'title': 'Concepts | ğŸ¦œï¸�ğŸ›\\xa0ï¸� LangSmith', 'description': 'Prompt engineering is one the core pillars of LangSmith.', 'language': 'en'}, page_content='Prompt Versioningâ€‹\\nVerisioning is a key part of iterating and collaborating on your different prompts.\\nCommitsâ€‹\\nEvery saved update to a prompt creates a new commit. You can view previous commits, making it easy to review earlier prompt versions or revert to a previous state if needed. In the SDK, you can access a specific commit of a prompt by specifying the commit hash along with the prompt name (e.g. prompt_name:commit_hash).\\nIn the UI, you can compare a commit with its previous version by toggling the \"diff\" button in the top-right corner of the Commits tab.'),\n",
       " Document(metadata={'source': 'https://docs.smith.langchain.com/prompt_engineering/concepts', 'title': 'Concepts | ğŸ¦œï¸�ğŸ›\\xa0ï¸� LangSmith', 'description': 'Prompt engineering is one the core pillars of LangSmith.', 'language': 'en'}, page_content='Tagsâ€‹\\nYou may want to tag prompt commits with a human-readable tag so that you can refer to it even as new commits are added. Common use cases include tagging a prompt with dev or prod tags. This allows you to track which versions of prompts are used where.\\nPrompt Playgroundâ€‹\\nThe prompt playground makes the process of iterating and testing your prompts seamless. You can enter the playground from the sidebar or directly from a saved prompt.\\nIn the playground you can:\\n\\nChange the model being used\\nChange prompt template being used\\nChange the output schema\\nChange the tools available\\nEnter the input variables to run through the prompt template\\nRun the prompt through the model\\nObserve the outputs\\n\\nTesting multiple promptsâ€‹\\nYou can add more prompts to your playground to easily compare outputs and decide which version is better:'),\n",
       " Document(metadata={'source': 'https://docs.smith.langchain.com/prompt_engineering/concepts', 'title': 'Concepts | ğŸ¦œï¸�ğŸ›\\xa0ï¸� LangSmith', 'description': 'Prompt engineering is one the core pillars of LangSmith.', 'language': 'en'}, page_content='Testing multiple promptsâ€‹\\nYou can add more prompts to your playground to easily compare outputs and decide which version is better:\\n\\nTesting over a datasetâ€‹\\nTo test over a dataset, you simply select the dataset from the top right and press Start. You can modify whether the results\\nare streamed back as well as how many repitions there are in the test.\\n\\nYou can click on the \"View Experiment\" button to dive deeper into the results of the test.Was this page helpful?You can leave detailed feedback on GitHub.PreviousHow to use multiple messages in the playgroundNextDeployment (LangGraph Platform)Why prompt engineering?Prompts vs Prompt TemplatesPrompts in LangSmithChat vs CompletionF-string vs mustacheToolsStructured OutputModelPrompt VersioningCommitsTagsPrompt PlaygroundTesting multiple promptsTesting over a datasetCommunityLangChain ForumTwitterGitHubDocs CodeLangSmith SDKPythonJS/TSMoreHomepageBlogLangChain Python DocsLangChain JS/TS DocsCopyright Â© 2025 LangChain, Inc.')]"
      ]
     },
     "execution_count": 9,
     "metadata": {},
     "output_type": "execute_result"
    }
   ],
   "source": [
    "## Data Splitting -- Split the data into smaller chunks\n",
    "from langchain.text_splitter import RecursiveCharacterTextSplitter\n",
    "text_splitter = RecursiveCharacterTextSplitter(\n",
    "    chunk_size=1000,\n",
    "    chunk_overlap=200\n",
    ")\n",
    "documents=text_splitter.split_documents(docs)\n",
    "documents"
   ]
  },
  {
   "cell_type": "markdown",
   "id": "d3b4a621",
   "metadata": {},
   "source": [
    "Convert these Chunks to Vectors using Embedding techniques"
   ]
  },
  {
   "cell_type": "code",
   "execution_count": 10,
   "id": "9d9ffe8c",
   "metadata": {},
   "outputs": [],
   "source": [
    "from langchain.embeddings import OpenAIEmbeddings\n",
    "embeddings=OpenAIEmbeddings()"
   ]
  },
  {
   "cell_type": "code",
   "execution_count": 11,
   "id": "52d09214",
   "metadata": {},
   "outputs": [],
   "source": [
    "# Using Embeddings to convert the documents to vectors and\n",
    "#  store them in a vector database\n",
    "\n",
    "from langchain_community.vectorstores import FAISS\n",
    "vectorstoredb=FAISS.from_documents(documents, embeddings)"
   ]
  },
  {
   "cell_type": "code",
   "execution_count": 12,
   "id": "679a754f",
   "metadata": {},
   "outputs": [
    {
     "name": "stdout",
     "output_type": "stream",
     "text": [
      "[Document(id='440f7cdb-924e-48b2-b830-e8cebda07be0', metadata={'source': 'https://docs.smith.langchain.com/prompt_engineering/concepts', 'title': 'Concepts | ğŸ¦œï¸�ğŸ›\\xa0ï¸� LangSmith', 'description': 'Prompt engineering is one the core pillars of LangSmith.', 'language': 'en'}, page_content='Prompt Versioningâ€‹\\nVerisioning is a key part of iterating and collaborating on your different prompts.\\nCommitsâ€‹\\nEvery saved update to a prompt creates a new commit. You can view previous commits, making it easy to review earlier prompt versions or revert to a previous state if needed. In the SDK, you can access a specific commit of a prompt by specifying the commit hash along with the prompt name (e.g. prompt_name:commit_hash).\\nIn the UI, you can compare a commit with its previous version by toggling the \"diff\" button in the top-right corner of the Commits tab.'), Document(id='7bb6a1fe-7d4c-48b5-8a45-ac80c3ff0b8a', metadata={'source': 'https://docs.smith.langchain.com/prompt_engineering/concepts', 'title': 'Concepts | ğŸ¦œï¸�ğŸ›\\xa0ï¸� LangSmith', 'description': 'Prompt engineering is one the core pillars of LangSmith.', 'language': 'en'}, page_content='Tagsâ€‹\\nYou may want to tag prompt commits with a human-readable tag so that you can refer to it even as new commits are added. Common use cases include tagging a prompt with dev or prod tags. This allows you to track which versions of prompts are used where.\\nPrompt Playgroundâ€‹\\nThe prompt playground makes the process of iterating and testing your prompts seamless. You can enter the playground from the sidebar or directly from a saved prompt.\\nIn the playground you can:\\n\\nChange the model being used\\nChange prompt template being used\\nChange the output schema\\nChange the tools available\\nEnter the input variables to run through the prompt template\\nRun the prompt through the model\\nObserve the outputs\\n\\nTesting multiple promptsâ€‹\\nYou can add more prompts to your playground to easily compare outputs and decide which version is better:'), Document(id='ca4f89ec-a94b-4020-bd54-f43bbfc5b4e2', metadata={'source': 'https://docs.smith.langchain.com/prompt_engineering/concepts', 'title': 'Concepts | ğŸ¦œï¸�ğŸ›\\xa0ï¸� LangSmith', 'description': 'Prompt engineering is one the core pillars of LangSmith.', 'language': 'en'}, page_content='While there are other ways to change the model\\'s behavior (like fine-tuning), prompt engineering is usually the simplest to get started with\\nand often provides the highest ROI.\\nWe often see that prompt engineering is multi-disciplinary.\\nSometimes the best prompt engineer is not the software engineer who is building the application, but rather the product manager\\nor another domain expert.\\nIt is important to have the proper tooling and infrastructure to support this cross-disciplinary building.\\nPrompts vs Prompt Templatesâ€‹\\nAlthough we often use these terms interchangably, it is important to understand the difference between \"prompts\" and \"prompt templates\".\\nPrompts refer to the messages that are passed into the language model.\\nPrompt Templates refer to a way of formatting information to get that prompt to hold the information that you want. Prompt templates\\ncan include variables for few shot examples, outside context, or any other external data that is needed in your prompt.'), Document(id='058059db-10c4-44b4-905e-56fa7ab56f9c', metadata={'source': 'https://docs.smith.langchain.com/prompt_engineering/concepts', 'title': 'Concepts | ğŸ¦œï¸�ğŸ›\\xa0ï¸� LangSmith', 'description': 'Prompt engineering is one the core pillars of LangSmith.', 'language': 'en'}, page_content='Testing multiple promptsâ€‹\\nYou can add more prompts to your playground to easily compare outputs and decide which version is better:\\n\\nTesting over a datasetâ€‹\\nTo test over a dataset, you simply select the dataset from the top right and press Start. You can modify whether the results\\nare streamed back as well as how many repitions there are in the test.\\n\\nYou can click on the \"View Experiment\" button to dive deeper into the results of the test.Was this page helpful?You can leave detailed feedback on GitHub.PreviousHow to use multiple messages in the playgroundNextDeployment (LangGraph Platform)Why prompt engineering?Prompts vs Prompt TemplatesPrompts in LangSmithChat vs CompletionF-string vs mustacheToolsStructured OutputModelPrompt VersioningCommitsTagsPrompt PlaygroundTesting multiple promptsTesting over a datasetCommunityLangChain ForumTwitterGitHubDocs CodeLangSmith SDKPythonJS/TSMoreHomepageBlogLangChain Python DocsLangChain JS/TS DocsCopyright Â© 2025 LangChain, Inc.')]\n"
     ]
    }
   ],
   "source": [
    "## Now you can use the `vectorstoredb` to perform similarity searches \n",
    "# or other operations as needed.\n",
    "query = \"what is is a key part of iterating and collaborating on your different prompts?\"\n",
    "result=vectorstoredb.similarity_search(query)\n",
    "print(result)"
   ]
  },
  {
   "cell_type": "code",
   "execution_count": null,
   "id": "fc2382cc",
   "metadata": {},
   "outputs": [],
   "source": []
  },
  {
   "cell_type": "code",
   "execution_count": null,
   "id": "c924512f",
   "metadata": {},
   "outputs": [],
   "source": []
  }
 ],
 "metadata": {
  "kernelspec": {
   "display_name": "base",
   "language": "python",
   "name": "python3"
  },
  "language_info": {
   "codemirror_mode": {
    "name": "ipython",
    "version": 3
   },
   "file_extension": ".py",
   "mimetype": "text/x-python",
   "name": "python",
   "nbconvert_exporter": "python",
   "pygments_lexer": "ipython3",
   "version": "3.13.5"
  }
 },
 "nbformat": 4,
 "nbformat_minor": 5
}
